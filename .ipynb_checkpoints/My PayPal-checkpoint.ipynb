{
 "cells": [
  {
   "cell_type": "code",
   "execution_count": null,
   "id": "7be3f736-67dc-47f6-9a02-9fdd1cbdbbd0",
   "metadata": {},
   "outputs": [],
   "source": [
    "!pip install pandas scikit-learn matplotlib seaborn"
   ]
  },
  {
   "cell_type": "code",
   "execution_count": null,
   "id": "babb5983-f5cc-40a7-8ccf-61de53d3e4b2",
   "metadata": {},
   "outputs": [],
   "source": [
    "# Import necessary libraries\n",
    "import pandas as pd\n",
    "from sklearn.model_selection import train_test_split\n",
    "from sklearn.preprocessing import StandardScaler\n",
    "from sklearn.ensemble import RandomForestClassifier\n",
    "from sklearn.metrics import classification_report, confusion_matrix, precision_recall_curve, auc\n",
    "import joblib\n",
    "import os\n",
    "\n",
    "# Load the dataset\n",
    "url = \"https://storage.googleapis.com/qwasar-public/track-ds/my_paypal_creditcard.csv\" if not os.path.exists('my_paypal_creditcard.csv') else 'my_paypal_creditcard.csv'\n",
    "df = pd.read_csv(url)\n",
    "\n",
    "# Split the data into features (X) and target variable (y)\n",
    "X = df.drop('Class', axis=1)\n",
    "y = df['Class']\n",
    "\n",
    "# Split the data into training and testing sets\n",
    "X_train, X_test, y_train, y_test = train_test_split(X, y, test_size=0.2, random_state=42)\n",
    "\n",
    "# Standardize the features\n",
    "scaler = StandardScaler()\n",
    "X_train = scaler.fit_transform(X_train)\n",
    "X_test = scaler.transform(X_test)\n",
    "\n",
    "# Train a Random Forest Classifier\n",
    "model = RandomForestClassifier(n_estimators=100, random_state=42)\n",
    "model.fit(X_train, y_train)\n",
    "\n",
    "# Save the trained model\n",
    "joblib.dump(model, 'fraud_detection_model.joblib')\n",
    "\n",
    "# Make predictions on the test set\n",
    "y_pred = model.predict(X_test)\n",
    "\n",
    "# Evaluate the model\n",
    "print(\"Confusion Matrix:\\n\", confusion_matrix(y_test, y_pred))\n",
    "print(\"\\nClassification Report:\\n\", classification_report(y_test, y_pred))\n",
    "\n",
    "# Calculate precision-recall curve and area under the curve (AUC)\n",
    "precision, recall, _ = precision_recall_curve(y_test, y_pred)\n",
    "auc_score = auc(recall, precision)\n",
    "print(f\"\\nArea Under the Precision-Recall Curve (AUC-PRC): {auc_score}\")\n",
    "\n",
    "# Now, you can use this trained model for making predictions on new data\n",
    "# Example: new_data_predictions = model.predict(new_data)\n"
   ]
  },
  {
   "cell_type": "code",
   "execution_count": null,
   "id": "799ef49b-d1a8-41d2-99b3-83c3f50fd228",
   "metadata": {},
   "outputs": [],
   "source": []
  }
 ],
 "metadata": {
  "kernelspec": {
   "display_name": "Python 3 (ipykernel)",
   "language": "python",
   "name": "python3"
  },
  "language_info": {
   "codemirror_mode": {
    "name": "ipython",
    "version": 3
   },
   "file_extension": ".py",
   "mimetype": "text/x-python",
   "name": "python",
   "nbconvert_exporter": "python",
   "pygments_lexer": "ipython3",
   "version": "3.10.2"
  }
 },
 "nbformat": 4,
 "nbformat_minor": 5
}
