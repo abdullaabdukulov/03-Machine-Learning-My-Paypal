{
 "cells": [
  {
   "cell_type": "code",
   "execution_count": 3,
   "id": "initial_id",
   "metadata": {
    "ExecuteTime": {
     "end_time": "2024-02-24T18:25:23.322568Z",
     "start_time": "2024-02-24T18:25:21.875645Z"
    }
   },
   "outputs": [],
   "source": [
    "import warnings\n",
    "warnings.filterwarnings(\"ignore\")\n",
    "\n",
    "import pandas as pd\n",
    "import numpy as np\n",
    "\n",
    "from plotly import express as px\n",
    "\n",
    "from sklearn.model_selection import train_test_split, cross_val_score\n",
    "from imblearn.over_sampling import SMOTE\n",
    "\n",
    "from sklearn.ensemble import RandomForestClassifier\n",
    "from sklearn.tree import DecisionTreeClassifier\n",
    "from sklearn.linear_model import LogisticRegression\n",
    "from sklearn.svm import SVC\n",
    "from sklearn.neighbors import KNeighborsClassifier\n",
    "\n",
    "from sklearn import metrics"
   ]
  },
  {
   "cell_type": "code",
   "execution_count": 4,
   "id": "e0022ada4686c7f",
   "metadata": {
    "ExecuteTime": {
     "end_time": "2024-02-24T18:26:18.643682Z",
     "start_time": "2024-02-24T18:25:23.770802Z"
    }
   },
   "outputs": [],
   "source": [
    "def load_datasest(path):\n",
    "    return pd.read_csv(path)\n",
    "df = load_datasest('https://storage.googleapis.com/qwasar-public/track-ds/my_paypal_creditcard.csv')"
   ]
  },
  {
   "cell_type": "code",
   "execution_count": null,
   "id": "5397881483e38701",
   "metadata": {},
   "outputs": [],
   "source": [
    "def summarize_dataset(df):\n",
    "    print(\"Dataset's shape: \", df.shape)\n",
    "    print(\"Summarize datasest:\")\n",
    "    df.info()\n",
    "summarize_dataset(df)"
   ]
  },
  {
   "cell_type": "code",
   "execution_count": 6,
   "id": "ed627df6730f7050",
   "metadata": {
    "ExecuteTime": {
     "end_time": "2024-02-24T18:26:19.562388Z",
     "start_time": "2024-02-24T18:26:18.744379Z"
    }
   },
   "outputs": [],
   "source": [
    "def clean_dataset(df):\n",
    "    df.dropna(inplace=True)\n",
    "    df.drop_duplicates(inplace=True)\n",
    "    return df\n",
    "df = clean_dataset(df)"
   ]
  },
  {
   "cell_type": "code",
   "execution_count": null,
   "id": "ea8ababa2c4a2165",
   "metadata": {},
   "outputs": [],
   "source": [
    "fig = px.scatter(df,\n",
    "                 x = 'Time',\n",
    "                 y = 'Amount',\n",
    "                 color = 'Class',\n",
    "                 facet_col= 'Class',\n",
    "                 template = 'plotly_dark'\n",
    "                 )\n",
    "\n",
    "fig.show()"
   ]
  },
  {
   "cell_type": "code",
   "execution_count": null,
   "id": "613e66320638a752",
   "metadata": {},
   "outputs": [],
   "source": [
    "fig = px.imshow(df.corr().abs())\n",
    "fig.update_layout(height=1000, width=1000)\n",
    "fig.show()"
   ]
  },
  {
   "cell_type": "code",
   "execution_count": null,
   "id": "bbaa6baf679306a0",
   "metadata": {},
   "outputs": [],
   "source": [
    "fig = px.histogram(df, x=df['Class'].astype(str), color='Class', text_auto=True)\n",
    "fig.update_layout(width=600, height=600)\n",
    "fig.show()"
   ]
  },
  {
   "cell_type": "code",
   "execution_count": null,
   "id": "4ed762a1de4025c0",
   "metadata": {},
   "outputs": [],
   "source": [
    "fig = px.histogram(df, x='Time')\n",
    "fig.show()"
   ]
  },
  {
   "cell_type": "code",
   "execution_count": null,
   "id": "6c10dc06e210c04d",
   "metadata": {},
   "outputs": [],
   "source": [
    "amount = df['Amount'].value_counts()\n",
    "amount = amount[amount>500]\n",
    "fig = px.histogram(amount, x=amount.index, y=amount.values)\n",
    "fig.show()"
   ]
  },
  {
   "cell_type": "markdown",
   "id": "2d7a1c05f2c8bf8c",
   "metadata": {},
   "source": [
    "# Preprocessing for Machine Learning"
   ]
  },
  {
   "cell_type": "code",
   "execution_count": 12,
   "id": "8f21be2dae567e25",
   "metadata": {},
   "outputs": [],
   "source": [
    "x = df.drop('Class', axis=1)\n",
    "y = df['Class']"
   ]
  },
  {
   "cell_type": "code",
   "execution_count": 18,
   "id": "87dce9f2c7fdf03d",
   "metadata": {
    "ExecuteTime": {
     "end_time": "2024-02-24T18:27:10.775112Z",
     "start_time": "2024-02-24T18:27:10.697043Z"
    }
   },
   "outputs": [],
   "source": [
    "smote = SMOTE(random_state=42)\n",
    "\n",
    "x_balanced, y_balanced = smote.fit_resample(x, y)"
   ]
  },
  {
   "cell_type": "code",
   "execution_count": 19,
   "id": "9fef580dca19849",
   "metadata": {
    "collapsed": false,
    "ExecuteTime": {
     "end_time": "2024-02-24T18:27:12.931170Z",
     "start_time": "2024-02-24T18:27:12.924111Z"
    }
   },
   "outputs": [],
   "source": [
    "x_balanced['Class'] = y_balanced\n",
    "sample = x_balanced.sample(n=10000, random_state=42)"
   ]
  },
  {
   "cell_type": "code",
   "outputs": [],
   "source": [
    "try:\n",
    "    del x_balanced, y_balanced, df\n",
    "except:\n",
    "    pass"
   ],
   "metadata": {
    "collapsed": false,
    "ExecuteTime": {
     "end_time": "2024-02-24T18:27:24.758119Z",
     "start_time": "2024-02-24T18:27:24.752149Z"
    }
   },
   "id": "8451509c3cfcc8ba",
   "execution_count": 20
  },
  {
   "cell_type": "code",
   "execution_count": 21,
   "id": "37f57c3ecc85effb",
   "metadata": {
    "collapsed": false,
    "ExecuteTime": {
     "end_time": "2024-02-24T18:27:25.904220Z",
     "start_time": "2024-02-24T18:27:25.899951Z"
    }
   },
   "outputs": [],
   "source": [
    "x = sample.drop('Class', axis=1)\n",
    "y = sample['Class']"
   ]
  },
  {
   "cell_type": "code",
   "execution_count": null,
   "id": "6c0fd9416999b550",
   "metadata": {
    "collapsed": false
   },
   "outputs": [],
   "source": [
    "fig = px.histogram(sample, x=sample['Class'].astype(str), color='Class', text_auto=True)\n",
    "fig.update_layout(width=600, height=600)\n",
    "fig.show()"
   ]
  },
  {
   "cell_type": "code",
   "execution_count": 23,
   "id": "b348ef35e2b58587",
   "metadata": {
    "ExecuteTime": {
     "end_time": "2024-02-24T18:27:29.811059Z",
     "start_time": "2024-02-24T18:27:29.806640Z"
    }
   },
   "outputs": [
    {
     "data": {
      "text/plain": "(10000, 30)"
     },
     "execution_count": 23,
     "metadata": {},
     "output_type": "execute_result"
    }
   ],
   "source": [
    "x.shape"
   ]
  },
  {
   "cell_type": "code",
   "execution_count": 24,
   "id": "b5f870577eba337e",
   "metadata": {
    "ExecuteTime": {
     "end_time": "2024-02-24T18:27:31.614572Z",
     "start_time": "2024-02-24T18:27:31.606361Z"
    }
   },
   "outputs": [],
   "source": [
    "x_train, x_test, y_train, y_test = train_test_split(x, y, test_size=0.1, random_state=42)"
   ]
  },
  {
   "cell_type": "markdown",
   "id": "10ae74d2fc901bba",
   "metadata": {},
   "source": [
    "# Machine Learning"
   ]
  },
  {
   "cell_type": "code",
   "execution_count": 25,
   "id": "24daec63-4995-4336-88f6-69509522e8f4",
   "metadata": {
    "ExecuteTime": {
     "end_time": "2024-02-24T18:27:33.438975Z",
     "start_time": "2024-02-24T18:27:33.434146Z"
    }
   },
   "outputs": [],
   "source": [
    "def confusion_matrix(y_true, y_pred):\n",
    "    conf_matrix = metrics.confusion_matrix(y_test, y_pred)\n",
    "    fig = px.imshow(conf_matrix, text_auto=True)\n",
    "    fig.update_layout(height=300, width=300, margin=dict(t=10, b=10, l=10, r=10), coloraxis_showscale=False)\n",
    "    fig.show()"
   ]
  },
  {
   "cell_type": "code",
   "execution_count": 26,
   "id": "b25da3d1d1ed71cf",
   "metadata": {
    "ExecuteTime": {
     "end_time": "2024-02-24T18:27:35.192889Z",
     "start_time": "2024-02-24T18:27:35.189326Z"
    }
   },
   "outputs": [],
   "source": [
    "def fit_model(model):\n",
    "    model.fit(x_train, y_train)\n",
    "    y_pred = model.predict(x_test)\n",
    "    print('Model name:', str(model))\n",
    "    print(f'Accurance score: {int(metrics.accuracy_score(y_test, y_pred) * 100)}%')\n",
    "    print(f\"Mean squared error: {round(metrics.mean_squared_error(y_test, y_pred), 2) * 100}%\")\n",
    "    print(f\"Cross Validation Score: {int(np.mean(cross_val_score(model, x_train, y_train, cv=10)) * 100)}%\")\n",
    "    print(f\"Confusion Matrix: \\n\")\n",
    "    confusion_matrix(y_test, y_pred)"
   ]
  },
  {
   "cell_type": "code",
   "execution_count": null,
   "id": "ad46e8382f318c59",
   "metadata": {},
   "outputs": [],
   "source": [
    "model = LogisticRegression()\n",
    "fit_model(model)"
   ]
  },
  {
   "cell_type": "code",
   "execution_count": null,
   "id": "5223b7ef8c68ee00",
   "metadata": {},
   "outputs": [],
   "source": [
    "model = DecisionTreeClassifier()\n",
    "fit_model(model)"
   ]
  },
  {
   "cell_type": "code",
   "execution_count": null,
   "id": "7da120d0033e6236",
   "metadata": {},
   "outputs": [],
   "source": [
    "model = RandomForestClassifier()\n",
    "fit_model(model)"
   ]
  },
  {
   "cell_type": "code",
   "execution_count": null,
   "id": "67eb2057d913e30a",
   "metadata": {},
   "outputs": [],
   "source": [
    "model = SVC()\n",
    "fit_model(model)"
   ]
  },
  {
   "cell_type": "code",
   "execution_count": null,
   "id": "4e6cf493fef96fc7",
   "metadata": {},
   "outputs": [],
   "source": [
    "model = KNeighborsClassifier()\n",
    "fit_model(model)"
   ]
  }
 ],
 "metadata": {
  "kernelspec": {
   "display_name": "Python 3 (ipykernel)",
   "language": "python",
   "name": "python3"
  },
  "language_info": {
   "codemirror_mode": {
    "name": "ipython",
    "version": 3
   },
   "file_extension": ".py",
   "mimetype": "text/x-python",
   "name": "python",
   "nbconvert_exporter": "python",
   "pygments_lexer": "ipython3",
   "version": "3.12.1"
  },
  "widgets": {
   "application/vnd.jupyter.widget-state+json": {
    "state": {},
    "version_major": 2,
    "version_minor": 0
   }
  }
 },
 "nbformat": 4,
 "nbformat_minor": 5
}
